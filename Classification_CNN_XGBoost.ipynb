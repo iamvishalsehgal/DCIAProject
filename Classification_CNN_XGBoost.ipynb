{
  "cells": [
    {
      "cell_type": "markdown",
      "metadata": {
        "id": "eEtEwUSpYbo4"
      },
      "source": [
        "## Imports"
      ]
    },
    {
      "cell_type": "markdown",
      "metadata": {},
      "source": [
        "This notebook can be used locally or with google colab."
      ]
    },
    {
      "cell_type": "code",
      "execution_count": null,
      "metadata": {},
      "outputs": [],
      "source": [
        "# !pip install tensorflow\n",
        "# !pip install xgboost"
      ]
    },
    {
      "cell_type": "code",
      "execution_count": 4,
      "metadata": {
        "id": "HV5hLvR4g_DV"
      },
      "outputs": [],
      "source": [
        "import numpy as np\n",
        "import pandas as pd\n",
        "from tensorflow.keras.models import Sequential\n",
        "from tensorflow.keras.layers import Conv1D, MaxPooling1D, Flatten, Dense, Dropout, BatchNormalization\n",
        "from tensorflow.keras.optimizers import Adam\n",
        "from tensorflow.keras.callbacks import LearningRateScheduler, EarlyStopping\n",
        "import tensorflow as tf\n",
        "import xgboost as xgb\n",
        "from sklearn.model_selection import train_test_split\n",
        "from sklearn.metrics import accuracy_score\n",
        "from sklearn.model_selection import GridSearchCV\n",
        "\n"
      ]
    },
    {
      "cell_type": "markdown",
      "metadata": {
        "id": "R4yxB1ouYjVL"
      },
      "source": [
        "## Load Data"
      ]
    },
    {
      "cell_type": "markdown",
      "metadata": {
        "id": "aEClCcgxfsA6"
      },
      "source": [
        "For anyone of our Consultancy team using this code;\n",
        "The data can be loaded by copying the shared \"Data Consultancy\" drive to your \"MyDrive\" / \"My Drive\". This creates a shortcut. \n",
        "\n",
        "Can also use the provided all_attributes.csv file in the Data folder of the repository."
      ]
    },
    {
      "cell_type": "code",
      "execution_count": 5,
      "metadata": {},
      "outputs": [],
      "source": [
        "# Dataset using Data Folder \n",
        "data_path = 'Data/'"
      ]
    },
    {
      "cell_type": "code",
      "execution_count": 13,
      "metadata": {
        "colab": {
          "base_uri": "https://localhost:8080/"
        },
        "id": "5HIql3WYhaKp",
        "outputId": "7812c05f-d1d4-4e2d-b90b-7b09b1586a8b"
      },
      "outputs": [
        {
          "name": "stdout",
          "output_type": "stream",
          "text": [
            "Drive already mounted at /content/drive; to attempt to forcibly remount, call drive.mount(\"/content/drive\", force_remount=True).\n"
          ]
        }
      ],
      "source": [
        "# Dataset using google drive\n",
        "from google.colab import drive\n",
        "drive.mount('/content/drive')\n",
        "data_path = '/content/drive/MyDrive/Data Consultancy/Data/'"
      ]
    },
    {
      "cell_type": "code",
      "execution_count": 6,
      "metadata": {
        "id": "Unoxtu3PiJou"
      },
      "outputs": [],
      "source": [
        "filename = 'all_attributes.csv'\n",
        "df = pd.read_csv(data_path + filename)"
      ]
    },
    {
      "cell_type": "code",
      "execution_count": 7,
      "metadata": {
        "colab": {
          "base_uri": "https://localhost:8080/"
        },
        "id": "IOjb-Scair5d",
        "outputId": "0dbd89da-0cda-43ed-a48e-2f2a3f7aebd9"
      },
      "outputs": [
        {
          "name": "stdout",
          "output_type": "stream",
          "text": [
            "   Unnamed: 0         global_id chunk_name  \\\n",
            "0           0  9300000116893286        Bed   \n",
            "1           1  9300000027535662    T-shirt   \n",
            "2           2  9300000027535675    T-shirt   \n",
            "3           3  9300000030253533      Kabel   \n",
            "4           4  9300000021363038      Kabel   \n",
            "\n",
            "                                               title  \\\n",
            "0                 Multimo - Oplklapbed en Bank - 124   \n",
            "1      Noppies Nanyuki Baby Unisex T-shirt - Maat 50   \n",
            "2      Noppies Nanyuki Baby Unisex T-shirt - Maat 44   \n",
            "3  Lightning naar Usb C - Zwart -  lightning 8 pi...   \n",
            "4  Oculus Quest 2 Link Kabel | 5 meter | Incl. GR...   \n",
            "\n",
            "                                         description               att_name  \\\n",
            "0  Deze fraaie en comfortabele bank is geplaatst ...      dropdown_size_lxw   \n",
            "1  Aan- en uitkleden kan voor een baby best stres...  merchandise_of_artist   \n",
            "2  Overslag t shirt van het kinderkleding merk No...  merchandise_of_artist   \n",
            "3  USB C verloop van Lightning 8 pin naar Usb C<b...    additional_features   \n",
            "4  <p><strong>Met deze link kabel kan je je Oculu...    additional_features   \n",
            "\n",
            "                      att_value  \n",
            "0                   200 x 90 cm  \n",
            "1                           Nee  \n",
            "2                           Nee  \n",
            "3  Verloop Lightning naar Usb C  \n",
            "4                             -  \n"
          ]
        }
      ],
      "source": [
        "# Inspect data\n",
        "print(df[:5])"
      ]
    },
    {
      "cell_type": "markdown",
      "metadata": {
        "id": "mxclAvEnbzwO"
      },
      "source": [
        "## Visualize Class Distribution and Print Attribute Counts"
      ]
    },
    {
      "cell_type": "code",
      "execution_count": 8,
      "metadata": {
        "colab": {
          "base_uri": "https://localhost:8080/",
          "height": 1000
        },
        "id": "coeqB1s6byR_",
        "outputId": "f9ae5616-bd19-4ce6-b46f-a066e8b2e9e6"
      },
      "outputs": [
        {
          "data": {
            "image/png": "[encoded data removed]",
            "text/plain": [
              "<Figure size 640x480 with 1 Axes>"
            ]
          },
          "metadata": {},
          "output_type": "display_data"
        },
        {
          "name": "stdout",
          "output_type": "stream",
          "text": [
            "att_name\n",
            "title                             1497\n",
            "description                       1497\n",
            "seo_slug                          1492\n",
            "colour                            1486\n",
            "family_name                       1087\n",
            "warranty_exceptions                453\n",
            "whats_in_the_box                   453\n",
            "material_description               423\n",
            "model                              329\n",
            "size_on_label                      326\n",
            "clothing_range                     266\n",
            "size_model                         155\n",
            "total_product_length_with_size      67\n",
            "total_bag_width_with_size           59\n",
            "merchandise_of_artist               10\n",
            "additional_features                 10\n",
            "warranty                             5\n",
            "cons_of_the_product                  5\n",
            "dropdown_size_lxw                    5\n",
            "pros_of_the_product                  3\n",
            "purchase_category                    2\n",
            "cabinet_colour                       2\n",
            "certification_mark                   2\n",
            "merged_ids                           1\n",
            "usb_port                             1\n",
            "Name: count, dtype: int64\n",
            "['additional_features' 'cabinet_colour' 'certification_mark'\n",
            " 'clothing_range' 'colour' 'cons_of_the_product' 'description'\n",
            " 'dropdown_size_lxw' 'family_name' 'material_description'\n",
            " 'merchandise_of_artist' 'merged_ids' 'model' 'pros_of_the_product'\n",
            " 'purchase_category' 'seo_slug' 'size_model' 'size_on_label' 'title'\n",
            " 'total_bag_width_with_size' 'total_product_length_with_size' 'usb_port'\n",
            " 'warranty' 'warranty_exceptions' 'whats_in_the_box']\n"
          ]
        }
      ],
      "source": [
        "import matplotlib.pyplot as plt\n",
        "\n",
        "# Calculate class distribution\n",
        "class_distribution = df['att_name'].value_counts()\n",
        "\n",
        "# Plot class distribution\n",
        "plt.bar(range(len(class_distribution)), class_distribution)\n",
        "plt.xlabel('Class')\n",
        "plt.ylabel('Number of Samples')\n",
        "plt.title('Class Distribution')\n",
        "plt.show()\n",
        "\n",
        "print(class_distribution)\n",
        "\n",
        "\n",
        "print(np.unique(df['att_name']))"
      ]
    },
    {
      "cell_type": "markdown",
      "metadata": {
        "id": "9SeiNoIWX8Xa"
      },
      "source": [
        "##Embeddings created for testing, description in this case\n",
        "Note these embeddings are just for testing purposes for the CNN"
      ]
    },
    {
      "cell_type": "code",
      "execution_count": 21,
      "metadata": {
        "colab": {
          "base_uri": "https://localhost:8080/"
        },
        "id": "mOQIOYEdYGRf",
        "outputId": "be487dc1-bf5c-4e42-a75b-7dcec8bfd51d"
      },
      "outputs": [
        {
          "name": "stderr",
          "output_type": "stream",
          "text": [
            "[nltk_data] Downloading package punkt to /root/nltk_data...\n",
            "[nltk_data]   Unzipping tokenizers/punkt.zip.\n"
          ]
        }
      ],
      "source": [
        "# Get embeddings to use as input\n",
        "# These embeddings are just for test purposes\n",
        "import nltk\n",
        "nltk.download('punkt')\n",
        "import gensim\n",
        "from nltk.tokenize import word_tokenize\n",
        "\n",
        "\n",
        "# Subset of df for testing\n",
        "#df = df[:1000]\n",
        "\n",
        "# Tokenize the text\n",
        "df['tokens'] = df['description'].apply(word_tokenize)\n",
        "\n",
        "# Train Word2Vec model\n",
        "word2vec_model = gensim.models.Word2Vec(df['tokens'], min_count=1)\n",
        "\n",
        "# Function to get document embeddings\n",
        "def get_doc_embedding(tokens):\n",
        "    vectors = []\n",
        "    for token in tokens:\n",
        "        if token in word2vec_model.wv:\n",
        "            vectors.append(word2vec_model.wv[token])\n",
        "    if vectors:\n",
        "        return sum(vectors) / len(vectors)\n",
        "    else:\n",
        "        return [0] * 100  # If no vectors found, return a vector of zeros\n",
        "\n",
        "# Apply document embeddings\n",
        "df['embedding'] = df['tokens'].apply(get_doc_embedding)\n"
      ]
    },
    {
      "cell_type": "markdown",
      "metadata": {
        "id": "dWWmucxyYGPO"
      },
      "source": [
        "## CNN with embeddings as input, for multilabel classification\n",
        "Since no task was given for the embeddings the results are not expected to be great. We will use embeddings created by the SFR-Embedding-Mistral model."
      ]
    },
    {
      "cell_type": "code",
      "execution_count": 22,
      "metadata": {
        "colab": {
          "base_uri": "https://localhost:8080/"
        },
        "id": "203xHk95bzIN",
        "outputId": "91d39230-15f7-42ac-981a-0e1d3f8169bc"
      },
      "outputs": [
        {
          "name": "stdout",
          "output_type": "stream",
          "text": [
            "(25,)\n"
          ]
        }
      ],
      "source": [
        "# Embeddings as X_train. Ensure they are a list of lists.\n",
        "X_train = df['embedding']\n",
        "X_train = [embedding_list for embedding_list in X_train]\n",
        "\n",
        "# y_train = the attributes, they should match the embeddings in x_train, in binary so for each title which attribute is present in the title\n",
        "# one hot encoding\n",
        "y_train = pd.get_dummies(df['att_name']).values.astype(int)\n",
        "\n",
        "# Amount of classes:\n",
        "print(y_train[0].shape)\n",
        "\n"
      ]
    },
    {
      "cell_type": "code",
      "execution_count": 23,
      "metadata": {
        "colab": {
          "base_uri": "https://localhost:8080/"
        },
        "id": "gGBKbaZsHN_U",
        "outputId": "79585025-4103-467b-e0b7-8eb3e060807f"
      },
      "outputs": [
        {
          "name": "stdout",
          "output_type": "stream",
          "text": [
            "Epoch 1/10\n",
            "241/241 [==============================] - 27s 101ms/step - loss: 0.1643 - accuracy: 0.1792 - val_loss: 0.4291 - val_accuracy: 0.0000e+00 - lr: 1.0000e-03\n",
            "Epoch 2/10\n",
            "241/241 [==============================] - 24s 98ms/step - loss: 0.1221 - accuracy: 0.1794 - val_loss: 0.3137 - val_accuracy: 0.0000e+00 - lr: 1.0000e-03\n",
            "Epoch 3/10\n",
            "241/241 [==============================] - 27s 110ms/step - loss: 0.1163 - accuracy: 0.1977 - val_loss: 0.3357 - val_accuracy: 0.0000e+00 - lr: 1.0000e-03\n",
            "Epoch 4/10\n",
            "241/241 [==============================] - 23s 93ms/step - loss: 0.1140 - accuracy: 0.1959 - val_loss: 0.3599 - val_accuracy: 0.0000e+00 - lr: 1.0000e-03\n",
            "Epoch 5/10\n",
            "241/241 [==============================] - 24s 101ms/step - loss: 0.1129 - accuracy: 0.1914 - val_loss: 0.4067 - val_accuracy: 0.0000e+00 - lr: 1.0000e-03\n"
          ]
        },
        {
          "data": {
            "text/plain": [
              "<keras.src.callbacks.History at 0x7dd158395870>"
            ]
          },
          "execution_count": 23,
          "metadata": {},
          "output_type": "execute_result"
        }
      ],
      "source": [
        "# Convert lists to numpy array\n",
        "data_array = np.array(X_train)\n",
        "labels_array = np.array(y_train)\n",
        "\n",
        "# Reshape the data to fit the input shape of the CNN\n",
        "input_shape = (len(data_array), len(data_array[0]), 1)  # (num_samples, embedding_dim, channels)\n",
        "data_array = np.reshape(data_array, input_shape)\n",
        "\n",
        "# CNN model\n",
        "# Added dropout layers to prevent overfitting. With the actual Mistral embeddings,\n",
        "# we can experiment with excluding and including dropout layers, depending on\n",
        "# whether the model is overfitting. If it is overfitting, include dropout layers.\n",
        "model = Sequential()\n",
        "model.add(Conv1D(64, 3, activation='relu', input_shape=input_shape[1:]))\n",
        "model.add(Dropout(0.3))\n",
        "model.add(BatchNormalization())\n",
        "\n",
        "model.add(Conv1D(128, 3, activation='relu'))\n",
        "model.add(Dropout(0.3))\n",
        "model.add(BatchNormalization())\n",
        "model.add(MaxPooling1D(2))\n",
        "\n",
        "model.add(Conv1D(256, 3, activation='relu'))\n",
        "model.add(Dropout(0.3))\n",
        "model.add(BatchNormalization())\n",
        "model.add(MaxPooling1D(2))\n",
        "model.add(Flatten())\n",
        "\n",
        "model.add(Dense(256, activation='relu'))\n",
        "model.add(Dropout(0.3))\n",
        "\n",
        "model.add(Dense(128, activation='relu'))\n",
        "model.add(Dropout(0.3))\n",
        "\n",
        "# Change output layer for multi-label classification\n",
        "num_classes = labels_array.shape[1]  # Number of classes\n",
        "model.add(Dense(num_classes, activation='sigmoid'))  # Multi-label classification\n",
        "\n",
        "# Learning rate scheduler\n",
        "# Can be used to experiment with different learning rates\n",
        "def lr_scheduler(epoch, lr):\n",
        "    if epoch % 5 == 0:\n",
        "        return lr * 0.1\n",
        "    else:\n",
        "        return lr\n",
        "\n",
        "# Compile the model with a lower initial learning rate\n",
        "initial_learning_rate = 0.01\n",
        "model.compile(optimizer=Adam(learning_rate=initial_learning_rate), loss='binary_crossentropy', metrics=['accuracy'])\n",
        "\n",
        "# Define learning rate scheduler callback\n",
        "lr_scheduler_callback = LearningRateScheduler(lr_scheduler)\n",
        "\n",
        "# Train the model with increased epochs\n",
        "# model.fit(data_array, labels_array, epochs=10, batch_size=32, validation_split=0.2, callbacks=[lr_scheduler_callback])\n",
        "\n",
        "# Apply Early stopping if the model seems to overfit\n",
        "early_stopping_callback = EarlyStopping(monitor='val_loss', patience=3, restore_best_weights=True)\n",
        "\n",
        "# Train the model with early stopping\n",
        "model.fit(data_array, labels_array, epochs=10, batch_size=32, validation_split=0.2, callbacks=[lr_scheduler_callback, early_stopping_callback])\n",
        "\n"
      ]
    },
    {
      "cell_type": "markdown",
      "metadata": {
        "id": "RpA6k9DaYXMJ"
      },
      "source": [
        "##XGBoost"
      ]
    },
    {
      "cell_type": "code",
      "execution_count": 24,
      "metadata": {
        "colab": {
          "base_uri": "https://localhost:8080/"
        },
        "id": "wLIlVM2JXr-h",
        "outputId": "1cf08887-79d5-4265-b667-11cb439eb5a5"
      },
      "outputs": [
        {
          "name": "stdout",
          "output_type": "stream",
          "text": [
            "Starting grid search...\n"
          ]
        },
        {
          "name": "stderr",
          "output_type": "stream",
          "text": [
            "/usr/local/lib/python3.10/dist-packages/joblib/externals/loky/backend/fork_exec.py:38: RuntimeWarning: os.fork() was called. os.fork() is incompatible with multithreaded code, and JAX is multithreaded, so this will likely lead to a deadlock.\n",
            "  pid = os.fork()\n"
          ]
        },
        {
          "name": "stdout",
          "output_type": "stream",
          "text": [
            "Grid search complete.\n",
            "Best Parameters: {'learning_rate': 0.1, 'max_depth': 3, 'n_estimators': 100}\n",
            "Training model with best parameters...\n",
            "Model training complete.\n",
            "Validation Accuracy: 0.0\n",
            "Test Accuracy: 0.0\n"
          ]
        }
      ],
      "source": [
        "# Flatten the data_array for XGBoost\n",
        "data_array_flattened = np.array([np.ravel(embedding) for embedding in data_array])\n",
        "\n",
        "# Split data into train, validation, and test sets\n",
        "X_train_full, X_test, y_train_full, y_test = train_test_split(data_array_flattened, labels_array, test_size=0.2, random_state=42)\n",
        "X_train, X_valid, y_train, y_valid = train_test_split(X_train_full, y_train_full, test_size=0.2, random_state=42)\n",
        "\n",
        "\n",
        "# Parameter grid\n",
        "param_grid = {\n",
        "    'learning_rate': [0.1],\n",
        "    'max_depth': [3],\n",
        "    'n_estimators': [100]\n",
        "}\n",
        "\n",
        "# Use the param_grid below to tune hyperparameters\n",
        "'''param_grid = {\n",
        "    'learning_rate': [0.1, 0.01, 0.001],\n",
        "    'max_depth': [3, 5, 7],\n",
        "    'n_estimators': [100, 200, 300]\n",
        "}\n",
        "'''\n",
        "\n",
        "# Initialize XGBoost classifier\n",
        "model = xgb.XGBClassifier()\n",
        "\n",
        "# Initialize grid search\n",
        "grid_search = GridSearchCV(estimator=model, param_grid=param_grid, cv=3, scoring='accuracy', n_jobs=-1)\n",
        "\n",
        "# Perform grid search\n",
        "print(\"Starting grid search...\")\n",
        "grid_search.fit(X_train, y_train)\n",
        "print(\"Grid search complete.\")\n",
        "\n",
        "# Get best parameters\n",
        "best_params = grid_search.best_params_\n",
        "print(\"Best Parameters:\", best_params)\n",
        "\n",
        "# Train model with best parameters\n",
        "print(\"Training model with best parameters...\")\n",
        "best_model = xgb.XGBClassifier(**best_params)\n",
        "best_model.fit(X_train, y_train)\n",
        "print(\"Model training complete.\")\n",
        "\n",
        "\n",
        "# Predict on validation set\n",
        "y_pred_valid = best_model.predict(X_valid)\n",
        "\n",
        "# Evaluate performance on validation set\n",
        "accuracy_valid = accuracy_score(y_valid, y_pred_valid)\n",
        "print(\"Validation Accuracy:\", accuracy_valid)\n",
        "\n",
        "# Predict on test set\n",
        "y_pred_test = best_model.predict(X_test)\n",
        "\n",
        "# Evaluate performance on test set\n",
        "accuracy_test = accuracy_score(y_test, y_pred_test)\n",
        "print(\"Test Accuracy:\", accuracy_test)\n"
      ]
    },
    {
      "cell_type": "code",
      "execution_count": null,
      "metadata": {
        "id": "pbr3qxHhJf6o"
      },
      "outputs": [],
      "source": [
        "'''# ...\n",
        "\n",
        "num_classes = 12\n",
        "\n",
        "# example code\n",
        "model = Sequential()\n",
        "model.add(Conv1D(filters=64, kernel_size=3, activation='relu', input_shape=(100, 1)))\n",
        "model.add(GlobalMaxPooling1D())\n",
        "model.add(Dense(128, activation='relu'))\n",
        "model.add(Dropout(0.5))\n",
        "model.add(Dense(num_classes, activation='sigmoid'))  # Sigmoid for binary classification. Number of classses\n",
        "\n",
        "# Compile model\n",
        "model.compile(optimizer='adam', loss='binary_crossentropy', metrics=['accuracy'])\n",
        "'''"
      ]
    }
  ],
  "metadata": {
    "colab": {
      "provenance": []
    },
    "kernelspec": {
      "display_name": "Python 3",
      "name": "python3"
    },
    "language_info": {
      "codemirror_mode": {
        "name": "ipython",
        "version": 3
      },
      "file_extension": ".py",
      "mimetype": "text/x-python",
      "name": "python",
      "nbconvert_exporter": "python",
      "pygments_lexer": "ipython3",
      "version": "3.11.7"
    }
  },
  "nbformat": 4,
  "nbformat_minor": 0
}
